{
  "nbformat": 4,
  "nbformat_minor": 0,
  "metadata": {
    "colab": {
      "provenance": []
    },
    "kernelspec": {
      "name": "python3",
      "display_name": "Python 3"
    },
    "language_info": {
      "name": "python"
    }
  },
  "cells": [
    {
      "cell_type": "code",
      "source": [
        "#Algoritmo de Horner\n",
        "#Autor : Axel Oswaldo Lozano Arce\n",
        "#Fecha : Agosto 14, 2024\n",
        "\n",
        "import numpy as np\n",
        "import math as mt\n",
        "import pandas as pd\n",
        "\n",
        "def horner (n, x_0, polynomial):\n",
        "  result = 0\n",
        "  for i in range (0, len(polynomial)):\n",
        "    result = result * x_0 + polynomial[i]\n",
        "  return result\n",
        "\n",
        "n = int(input(\"Ingrese el grado n del polinomio: \"))\n",
        "\n",
        "polynomial=[1]*(n+1) #lista de valores del polinomio\n",
        "\n",
        "i = 0\n",
        "while i < (n+1):\n",
        "  print(\"ingrese el coeficiente\", i+1)\n",
        "  polynomial[i] = float(input())\n",
        "  i += 1\n",
        "\n",
        "x_0 = float(input(\"Ingrese el valor REAL de x_0: \"))\n",
        "\n",
        "print(horner(n, x_0, polynomial))"
      ],
      "metadata": {
        "id": "vrXkr2iObJvF",
        "colab": {
          "base_uri": "https://localhost:8080/"
        },
        "outputId": "8b0e8910-65a2-44ca-dfc6-b073974f614e"
      },
      "execution_count": 16,
      "outputs": [
        {
          "output_type": "stream",
          "name": "stdout",
          "text": [
            "Ingrese el grado n del polinomio: 4\n",
            "ingrese el coeficiente 1\n",
            "4\n",
            "ingrese el coeficiente 2\n",
            "7\n",
            "ingrese el coeficiente 3\n",
            "3\n",
            "ingrese el coeficiente 4\n",
            "6\n",
            "ingrese el coeficiente 5\n",
            "2\n",
            "Ingrese el valor REAL de x_0: 8\n",
            "20210.0\n"
          ]
        }
      ]
    },
    {
      "cell_type": "code",
      "source": [],
      "metadata": {
        "id": "1m5tcQsNrzEC"
      },
      "execution_count": null,
      "outputs": []
    }
  ]
}